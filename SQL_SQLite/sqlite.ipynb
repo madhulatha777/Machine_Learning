{
 "cells": [
  {
   "cell_type": "markdown",
   "metadata": {},
   "source": [
    "## SQL And SQLite"
   ]
  },
  {
   "cell_type": "markdown",
   "metadata": {
    "vscode": {
     "languageId": "plaintext"
    }
   },
   "source": [
    "SQL (Structured Query Language) is a standard language for managing and manuplating relational databases.\n",
    "SQLite is a self-contained,serverless,and zero-configuration database engine that is widely used for embedded database systems.\n",
    "\n",
    "task :\n",
    "\n",
    "creating databases,tables,and performing various SQL operations."
   ]
  },
  {
   "cell_type": "code",
   "execution_count": 1,
   "metadata": {},
   "outputs": [],
   "source": [
    "import sqlite3"
   ]
  },
  {
   "cell_type": "code",
   "execution_count": 2,
   "metadata": {},
   "outputs": [
    {
     "data": {
      "text/plain": [
       "<sqlite3.Connection at 0x20472776110>"
      ]
     },
     "execution_count": 2,
     "metadata": {},
     "output_type": "execute_result"
    }
   ],
   "source": [
    "## connect to an SQLite database\n",
    "connection = sqlite3.connect('example.db')\n",
    "connection"
   ]
  },
  {
   "cell_type": "code",
   "execution_count": 3,
   "metadata": {},
   "outputs": [],
   "source": [
    "cursor = connection.cursor()"
   ]
  },
  {
   "cell_type": "code",
   "execution_count": 4,
   "metadata": {},
   "outputs": [],
   "source": [
    "## Create a Table\n",
    "cursor.execute('''\n",
    "Create Table If Not Exists employees(\n",
    "               id Integer Primary Key,\n",
    "               name Text Not Null,\n",
    "               age Integer,\n",
    "               department text\n",
    "               )\n",
    "''')\n",
    "\n",
    "## Commit the changes\n",
    "connection.commit()"
   ]
  },
  {
   "cell_type": "code",
   "execution_count": 5,
   "metadata": {},
   "outputs": [
    {
     "data": {
      "text/plain": [
       "<sqlite3.Cursor at 0x2047296df40>"
      ]
     },
     "execution_count": 5,
     "metadata": {},
     "output_type": "execute_result"
    }
   ],
   "source": [
    "cursor.execute('''\n",
    "Select * from employees\n",
    "''')"
   ]
  },
  {
   "cell_type": "code",
   "execution_count": 6,
   "metadata": {},
   "outputs": [],
   "source": [
    "## Insert the data in sqlite table\n",
    "cursor.execute('''\n",
    "Insert Into employees(name,age,department)\n",
    "               values('Madhu',18,'CSE')\n",
    "''')\n",
    "cursor.execute('''\n",
    "Insert Into employees(name,age,department)\n",
    "               values('Paul',19,'CSE')\n",
    "''')\n",
    "cursor.execute('''\n",
    "Insert Into employees(name,age,department)\n",
    "               values('Charlie',19,'Finance')\n",
    "''')\n",
    "connection.commit()"
   ]
  },
  {
   "cell_type": "code",
   "execution_count": 7,
   "metadata": {},
   "outputs": [],
   "source": [
    "## commit the changes\n",
    "connection.commit()"
   ]
  },
  {
   "cell_type": "code",
   "execution_count": 8,
   "metadata": {},
   "outputs": [
    {
     "name": "stdout",
     "output_type": "stream",
     "text": [
      "(1, 'Madhu', 18, 'CSE')\n",
      "(2, 'Paul', 19, 'CSE')\n",
      "(3, 'Madhu', 18, 'CSE')\n",
      "(4, 'Paul', 19, 'CSE')\n",
      "(5, 'Charlie', 22, 'Finance')\n",
      "(6, 'Madhu', 18, 'CSE')\n",
      "(7, 'Paul', 19, 'CSE')\n",
      "(8, 'Charlie', 22, 'Finance')\n",
      "(9, 'Madhu', 18, 'CSE')\n",
      "(10, 'Paul', 19, 'CSE')\n",
      "(11, 'Charlie', 22, 'Finance')\n",
      "(12, 'Madhu', 18, 'CSE')\n",
      "(13, 'Paul', 19, 'CSE')\n",
      "(14, 'Charlie', 19, 'Finance')\n"
     ]
    }
   ],
   "source": [
    "## Query the data from the table\n",
    "cursor.execute('Select * from employees')\n",
    "rows = cursor.fetchall()\n",
    "\n",
    "## print the queried data\n",
    "\n",
    "for row in rows:\n",
    "    print(row)"
   ]
  },
  {
   "cell_type": "code",
   "execution_count": 9,
   "metadata": {},
   "outputs": [],
   "source": [
    "## Update the data in the table\n",
    "cursor.execute('''\n",
    "UPDATE employees\n",
    "Set age = 22\n",
    "where name = \"Charlie\"\n",
    "''')\n",
    "\n",
    "connection.commit()"
   ]
  },
  {
   "cell_type": "code",
   "execution_count": 10,
   "metadata": {},
   "outputs": [
    {
     "name": "stdout",
     "output_type": "stream",
     "text": [
      "(1, 'Madhu', 18, 'CSE')\n",
      "(2, 'Paul', 19, 'CSE')\n",
      "(3, 'Madhu', 18, 'CSE')\n",
      "(4, 'Paul', 19, 'CSE')\n",
      "(5, 'Charlie', 22, 'Finance')\n",
      "(6, 'Madhu', 18, 'CSE')\n",
      "(7, 'Paul', 19, 'CSE')\n",
      "(8, 'Charlie', 22, 'Finance')\n",
      "(9, 'Madhu', 18, 'CSE')\n",
      "(10, 'Paul', 19, 'CSE')\n",
      "(11, 'Charlie', 22, 'Finance')\n",
      "(12, 'Madhu', 18, 'CSE')\n",
      "(13, 'Paul', 19, 'CSE')\n",
      "(14, 'Charlie', 22, 'Finance')\n"
     ]
    }
   ],
   "source": [
    "## Query the data from the table\n",
    "cursor.execute('Select * from employees')\n",
    "rows = cursor.fetchall()\n",
    "\n",
    "## print the queried data\n",
    "\n",
    "for row in rows:\n",
    "    print(row)"
   ]
  },
  {
   "cell_type": "code",
   "execution_count": null,
   "metadata": {},
   "outputs": [],
   "source": []
  },
  {
   "cell_type": "code",
   "execution_count": 11,
   "metadata": {},
   "outputs": [],
   "source": [
    "## Delete the data from the table\n",
    "cursor.execute('''\n",
    "Delete from employees\n",
    "               where name = 'Charli'\n",
    "''')\n",
    "connection.commit()"
   ]
  },
  {
   "cell_type": "code",
   "execution_count": 12,
   "metadata": {},
   "outputs": [
    {
     "name": "stdout",
     "output_type": "stream",
     "text": [
      "(1, 'Madhu', 18, 'CSE')\n",
      "(2, 'Paul', 19, 'CSE')\n",
      "(3, 'Madhu', 18, 'CSE')\n",
      "(4, 'Paul', 19, 'CSE')\n",
      "(5, 'Charlie', 22, 'Finance')\n",
      "(6, 'Madhu', 18, 'CSE')\n",
      "(7, 'Paul', 19, 'CSE')\n",
      "(8, 'Charlie', 22, 'Finance')\n",
      "(9, 'Madhu', 18, 'CSE')\n",
      "(10, 'Paul', 19, 'CSE')\n",
      "(11, 'Charlie', 22, 'Finance')\n",
      "(12, 'Madhu', 18, 'CSE')\n",
      "(13, 'Paul', 19, 'CSE')\n",
      "(14, 'Charlie', 22, 'Finance')\n"
     ]
    }
   ],
   "source": [
    "## Query the data from the table\n",
    "cursor.execute('Select * from employees')\n",
    "rows = cursor.fetchall()\n",
    "\n",
    "## print the queried data\n",
    "\n",
    "for row in rows:\n",
    "    print(row)"
   ]
  },
  {
   "cell_type": "code",
   "execution_count": 13,
   "metadata": {},
   "outputs": [],
   "source": [
    "## Working with Sales Data\n",
    "# Connect to an SQLite database\n",
    "connection = sqlite3.connect('sales_data.db')\n",
    "cursor = connection.cursor()\n",
    "\n",
    "# Create a table for sales data\n",
    "cursor.execute('''\n",
    "CREATE TABLE IF NOT EXISTS sales(\n",
    "               id INTEGER PRIMARY KEY,\n",
    "               date TEXT NOT NULL,\n",
    "               product TEXT NOT NULL,\n",
    "               sales INTEGER,\n",
    "               region TEXT\n",
    "               )\n",
    "''')\n",
    "\n",
    "# Insert data into the sales table\n",
    "sales_data = [\n",
    "    ('2023-01-01', 'Product1', 100, 'North'),\n",
    "    ('2023-01-02', 'Product2', 200, 'South'),\n",
    "    ('2023-01-03', 'Product1', 150, 'East'),\n",
    "    ('2023-01-04', 'Product3', 250, 'West')\n",
    "]\n",
    "\n",
    "connection.executemany('''\n",
    "Insert into sales(date,product,sales,region)\n",
    "                       values(?,?,?,?)\n",
    "''',sales_data)\n",
    "\n",
    "connection.commit()\n",
    "\n",
    "\n"
   ]
  },
  {
   "cell_type": "code",
   "execution_count": 15,
   "metadata": {},
   "outputs": [
    {
     "name": "stdout",
     "output_type": "stream",
     "text": [
      "(1, '2023-01-01', 'Product1', 100, 'North')\n",
      "(2, '2023-01-02', 'Product2', 200, 'South')\n",
      "(3, '2023-01-03', 'Product1', 150, 'East')\n",
      "(4, '2023-01-04', 'Product3', 250, 'West')\n"
     ]
    }
   ],
   "source": [
    "## Query the data from the table\n",
    "cursor.execute('Select * from sales')\n",
    "rows = cursor.fetchall()\n",
    "\n",
    "## print the queried data\n",
    "\n",
    "for row in rows:\n",
    "    print(row)"
   ]
  },
  {
   "cell_type": "code",
   "execution_count": 16,
   "metadata": {},
   "outputs": [],
   "source": [
    "## close the connection\n",
    "connection.close()"
   ]
  },
  {
   "cell_type": "code",
   "execution_count": null,
   "metadata": {},
   "outputs": [],
   "source": []
  }
 ],
 "metadata": {
  "kernelspec": {
   "display_name": "venv",
   "language": "python",
   "name": "python3"
  },
  "language_info": {
   "codemirror_mode": {
    "name": "ipython",
    "version": 3
   },
   "file_extension": ".py",
   "mimetype": "text/x-python",
   "name": "python",
   "nbconvert_exporter": "python",
   "pygments_lexer": "ipython3",
   "version": "3.12.5"
  }
 },
 "nbformat": 4,
 "nbformat_minor": 2
}
