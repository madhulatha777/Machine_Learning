{
 "cells": [
  {
   "cell_type": "code",
   "execution_count": 4,
   "metadata": {},
   "outputs": [],
   "source": [
    "import numpy as np\n",
    "import pandas as pd\n",
    "import seaborn as sns\n",
    "import matplotlib.pyplot as plt\n",
    "%matplotlib inline"
   ]
  },
  {
   "cell_type": "code",
   "execution_count": 15,
   "metadata": {},
   "outputs": [
    {
     "data": {
      "text/plain": [
       "Text(0, 0.5, 'Y dataset')"
      ]
     },
     "execution_count": 15,
     "metadata": {},
     "output_type": "execute_result"
    },
    {
     "data": {
      "image/png": "[encoded data removed]",
      "text/plain": [
       "<Figure size 640x480 with 1 Axes>"
      ]
     },
     "metadata": {},
     "output_type": "display_data"
    }
   ],
   "source": [
    "X = 6 * np.random.rand(100, 1) - 3\n",
    "y = 0.5 * X**2 +1.5*X + 2 + np.random.randn(100, 1)\n",
    "# quadratic equation used- y = 0.5x^2 + 1.5x + 2 + outliers\n",
    "plt.scatter(X,y,color='g')\n",
    "plt.xlabel('X dataset')\n",
    "plt.ylabel('Y dataset')"
   ]
  },
  {
   "cell_type": "code",
   "execution_count": 16,
   "metadata": {},
   "outputs": [],
   "source": [
    "from sklearn.model_selection import train_test_split\n",
    "X_train,X_test,y_train,y_test = train_test_split(X,y,test_size=0.2,random_state=42)"
   ]
  },
  {
   "cell_type": "code",
   "execution_count": 17,
   "metadata": {},
   "outputs": [],
   "source": [
    "## Lets implements Simple Linear regression\n",
    "from sklearn.linear_model import LinearRegression\n",
    "regression_1 = LinearRegression()"
   ]
  },
  {
   "cell_type": "code",
   "execution_count": 18,
   "metadata": {},
   "outputs": [
    {
     "data": {
      "text/html": [
       "<style>#sk-container-id-1 {\n",
       "  /* Definition of color scheme common for light and dark mode */\n",
       "  --sklearn-color-text: #000;\n",
       "  --sklearn-color-text-muted: #666;\n",
       "  --sklearn-color-line: gray;\n",
       "  /* Definition of color scheme for unfitted estimators */\n",
       "  --sklearn-color-unfitted-level-0: #fff5e6;\n",
       "  --sklearn-color-unfitted-level-1: #f6e4d2;\n",
       "  --sklearn-color-unfitted-level-2: #ffe0b3;\n",
       "  --sklearn-color-unfitted-level-3: chocolate;\n",
       "  /* Definition of color scheme for fitted estimators */\n",
       "  --sklearn-color-fitted-level-0: #f0f8ff;\n",
       "  --sklearn-color-fitted-level-1: #d4ebff;\n",
       "  --sklearn-color-fitted-level-2: #b3dbfd;\n",
       "  --sklearn-color-fitted-level-3: cornflowerblue;\n",
       "\n",
       "  /* Specific color for light theme */\n",
       "  --sklearn-color-text-on-default-background: var(--sg-text-color, var(--theme-code-foreground, var(--jp-content-font-color1, black)));\n",
       "  --sklearn-color-background: var(--sg-background-color, var(--theme-background, var(--jp-layout-color0, white)));\n",
       "  --sklearn-color-border-box: var(--sg-text-color, var(--theme-code-foreground, var(--jp-content-font-color1, black)));\n",
       "  --sklearn-color-icon: #696969;\n",
       "\n",
       "  @media (prefers-color-scheme: dark) {\n",
       "    /* Redefinition of color scheme for dark theme */\n",
       "    --sklearn-color-text-on-default-background: var(--sg-text-color, var(--theme-code-foreground, var(--jp-content-font-color1, white)));\n",
       "    --sklearn-color-background: var(--sg-background-color, var(--theme-background, var(--jp-layout-color0, #111)));\n",
       "    --sklearn-color-border-box: var(--sg-text-color, var(--theme-code-foreground, var(--jp-content-font-color1, white)));\n",
       "    --sklearn-color-icon: #878787;\n",
       "  }\n",
       "}\n",
       "\n",
       "#sk-container-id-1 {\n",
       "  color: var(--sklearn-color-text);\n",
       "}\n",
       "\n",
       "#sk-container-id-1 pre {\n",
       "  padding: 0;\n",
       "}\n",
       "\n",
       "#sk-container-id-1 input.sk-hidden--visually {\n",
       "  border: 0;\n",
       "  clip: rect(1px 1px 1px 1px);\n",
       "  clip: rect(1px, 1px, 1px, 1px);\n",
       "  height: 1px;\n",
       "  margin: -1px;\n",
       "  overflow: hidden;\n",
       "  padding: 0;\n",
       "  position: absolute;\n",
       "  width: 1px;\n",
       "}\n",
       "\n",
       "#sk-container-id-1 div.sk-dashed-wrapped {\n",
       "  border: 1px dashed var(--sklearn-color-line);\n",
       "  margin: 0 0.4em 0.5em 0.4em;\n",
       "  box-sizing: border-box;\n",
       "  padding-bottom: 0.4em;\n",
       "  background-color: var(--sklearn-color-background);\n",
       "}\n",
       "\n",
       "#sk-container-id-1 div.sk-container {\n",
       "  /* jupyter's `normalize.less` sets `[hidden] { display: none; }`\n",
       "     but bootstrap.min.css set `[hidden] { display: none !important; }`\n",
       "     so we also need the `!important` here to be able to override the\n",
       "     default hidden behavior on the sphinx rendered scikit-learn.org.\n",
       "     See: https://github.com/scikit-learn/scikit-learn/issues/21755 */\n",
       "  display: inline-block !important;\n",
       "  position: relative;\n",
       "}\n",
       "\n",
       "#sk-container-id-1 div.sk-text-repr-fallback {\n",
       "  display: none;\n",
       "}\n",
       "\n",
       "div.sk-parallel-item,\n",
       "div.sk-serial,\n",
       "div.sk-item {\n",
       "  /* draw centered vertical line to link estimators */\n",
       "  background-image: linear-gradient(var(--sklearn-color-text-on-default-background), var(--sklearn-color-text-on-default-background));\n",
       "  background-size: 2px 100%;\n",
       "  background-repeat: no-repeat;\n",
       "  background-position: center center;\n",
       "}\n",
       "\n",
       "/* Parallel-specific style estimator block */\n",
       "\n",
       "#sk-container-id-1 div.sk-parallel-item::after {\n",
       "  content: \"\";\n",
       "  width: 100%;\n",
       "  border-bottom: 2px solid var(--sklearn-color-text-on-default-background);\n",
       "  flex-grow: 1;\n",
       "}\n",
       "\n",
       "#sk-container-id-1 div.sk-parallel {\n",
       "  display: flex;\n",
       "  align-items: stretch;\n",
       "  justify-content: center;\n",
       "  background-color: var(--sklearn-color-background);\n",
       "  position: relative;\n",
       "}\n",
       "\n",
       "#sk-container-id-1 div.sk-parallel-item {\n",
       "  display: flex;\n",
       "  flex-direction: column;\n",
       "}\n",
       "\n",
       "#sk-container-id-1 div.sk-parallel-item:first-child::after {\n",
       "  align-self: flex-end;\n",
       "  width: 50%;\n",
       "}\n",
       "\n",
       "#sk-container-id-1 div.sk-parallel-item:last-child::after {\n",
       "  align-self: flex-start;\n",
       "  width: 50%;\n",
       "}\n",
       "\n",
       "#sk-container-id-1 div.sk-parallel-item:only-child::after {\n",
       "  width: 0;\n",
       "}\n",
       "\n",
       "/* Serial-specific style estimator block */\n",
       "\n",
       "#sk-container-id-1 div.sk-serial {\n",
       "  display: flex;\n",
       "  flex-direction: column;\n",
       "  align-items: center;\n",
       "  background-color: var(--sklearn-color-background);\n",
       "  padding-right: 1em;\n",
       "  padding-left: 1em;\n",
       "}\n",
       "\n",
       "\n",
       "/* Toggleable style: style used for estimator/Pipeline/ColumnTransformer box that is\n",
       "clickable and can be expanded/collapsed.\n",
       "- Pipeline and ColumnTransformer use this feature and define the default style\n",
       "- Estimators will overwrite some part of the style using the `sk-estimator` class\n",
       "*/\n",
       "\n",
       "/* Pipeline and ColumnTransformer style (default) */\n",
       "\n",
       "#sk-container-id-1 div.sk-toggleable {\n",
       "  /* Default theme specific background. It is overwritten whether we have a\n",
       "  specific estimator or a Pipeline/ColumnTransformer */\n",
       "  background-color: var(--sklearn-color-background);\n",
       "}\n",
       "\n",
       "/* Toggleable label */\n",
       "#sk-container-id-1 label.sk-toggleable__label {\n",
       "  cursor: pointer;\n",
       "  display: flex;\n",
       "  width: 100%;\n",
       "  margin-bottom: 0;\n",
       "  padding: 0.5em;\n",
       "  box-sizing: border-box;\n",
       "  text-align: center;\n",
       "  align-items: start;\n",
       "  justify-content: space-between;\n",
       "  gap: 0.5em;\n",
       "}\n",
       "\n",
       "#sk-container-id-1 label.sk-toggleable__label .caption {\n",
       "  font-size: 0.6rem;\n",
       "  font-weight: lighter;\n",
       "  color: var(--sklearn-color-text-muted);\n",
       "}\n",
       "\n",
       "#sk-container-id-1 label.sk-toggleable__label-arrow:before {\n",
       "  /* Arrow on the left of the label */\n",
       "  content: \"▸\";\n",
       "  float: left;\n",
       "  margin-right: 0.25em;\n",
       "  color: var(--sklearn-color-icon);\n",
       "}\n",
       "\n",
       "#sk-container-id-1 label.sk-toggleable__label-arrow:hover:before {\n",
       "  color: var(--sklearn-color-text);\n",
       "}\n",
       "\n",
       "/* Toggleable content - dropdown */\n",
       "\n",
       "#sk-container-id-1 div.sk-toggleable__content {\n",
       "  max-height: 0;\n",
       "  max-width: 0;\n",
       "  overflow: hidden;\n",
       "  text-align: left;\n",
       "  /* unfitted */\n",
       "  background-color: var(--sklearn-color-unfitted-level-0);\n",
       "}\n",
       "\n",
       "#sk-container-id-1 div.sk-toggleable__content.fitted {\n",
       "  /* fitted */\n",
       "  background-color: var(--sklearn-color-fitted-level-0);\n",
       "}\n",
       "\n",
       "#sk-container-id-1 div.sk-toggleable__content pre {\n",
       "  margin: 0.2em;\n",
       "  border-radius: 0.25em;\n",
       "  color: var(--sklearn-color-text);\n",
       "  /* unfitted */\n",
       "  background-color: var(--sklearn-color-unfitted-level-0);\n",
       "}\n",
       "\n",
       "#sk-container-id-1 div.sk-toggleable__content.fitted pre {\n",
       "  /* unfitted */\n",
       "  background-color: var(--sklearn-color-fitted-level-0);\n",
       "}\n",
       "\n",
       "#sk-container-id-1 input.sk-toggleable__control:checked~div.sk-toggleable__content {\n",
       "  /* Expand drop-down */\n",
       "  max-height: 200px;\n",
       "  max-width: 100%;\n",
       "  overflow: auto;\n",
       "}\n",
       "\n",
       "#sk-container-id-1 input.sk-toggleable__control:checked~label.sk-toggleable__label-arrow:before {\n",
       "  content: \"▾\";\n",
       "}\n",
       "\n",
       "/* Pipeline/ColumnTransformer-specific style */\n",
       "\n",
       "#sk-container-id-1 div.sk-label input.sk-toggleable__control:checked~label.sk-toggleable__label {\n",
       "  color: var(--sklearn-color-text);\n",
       "  background-color: var(--sklearn-color-unfitted-level-2);\n",
       "}\n",
       "\n",
       "#sk-container-id-1 div.sk-label.fitted input.sk-toggleable__control:checked~label.sk-toggleable__label {\n",
       "  background-color: var(--sklearn-color-fitted-level-2);\n",
       "}\n",
       "\n",
       "/* Estimator-specific style */\n",
       "\n",
       "/* Colorize estimator box */\n",
       "#sk-container-id-1 div.sk-estimator input.sk-toggleable__control:checked~label.sk-toggleable__label {\n",
       "  /* unfitted */\n",
       "  background-color: var(--sklearn-color-unfitted-level-2);\n",
       "}\n",
       "\n",
       "#sk-container-id-1 div.sk-estimator.fitted input.sk-toggleable__control:checked~label.sk-toggleable__label {\n",
       "  /* fitted */\n",
       "  background-color: var(--sklearn-color-fitted-level-2);\n",
       "}\n",
       "\n",
       "#sk-container-id-1 div.sk-label label.sk-toggleable__label,\n",
       "#sk-container-id-1 div.sk-label label {\n",
       "  /* The background is the default theme color */\n",
       "  color: var(--sklearn-color-text-on-default-background);\n",
       "}\n",
       "\n",
       "/* On hover, darken the color of the background */\n",
       "#sk-container-id-1 div.sk-label:hover label.sk-toggleable__label {\n",
       "  color: var(--sklearn-color-text);\n",
       "  background-color: var(--sklearn-color-unfitted-level-2);\n",
       "}\n",
       "\n",
       "/* Label box, darken color on hover, fitted */\n",
       "#sk-container-id-1 div.sk-label.fitted:hover label.sk-toggleable__label.fitted {\n",
       "  color: var(--sklearn-color-text);\n",
       "  background-color: var(--sklearn-color-fitted-level-2);\n",
       "}\n",
       "\n",
       "/* Estimator label */\n",
       "\n",
       "#sk-container-id-1 div.sk-label label {\n",
       "  font-family: monospace;\n",
       "  font-weight: bold;\n",
       "  display: inline-block;\n",
       "  line-height: 1.2em;\n",
       "}\n",
       "\n",
       "#sk-container-id-1 div.sk-label-container {\n",
       "  text-align: center;\n",
       "}\n",
       "\n",
       "/* Estimator-specific */\n",
       "#sk-container-id-1 div.sk-estimator {\n",
       "  font-family: monospace;\n",
       "  border: 1px dotted var(--sklearn-color-border-box);\n",
       "  border-radius: 0.25em;\n",
       "  box-sizing: border-box;\n",
       "  margin-bottom: 0.5em;\n",
       "  /* unfitted */\n",
       "  background-color: var(--sklearn-color-unfitted-level-0);\n",
       "}\n",
       "\n",
       "#sk-container-id-1 div.sk-estimator.fitted {\n",
       "  /* fitted */\n",
       "  background-color: var(--sklearn-color-fitted-level-0);\n",
       "}\n",
       "\n",
       "/* on hover */\n",
       "#sk-container-id-1 div.sk-estimator:hover {\n",
       "  /* unfitted */\n",
       "  background-color: var(--sklearn-color-unfitted-level-2);\n",
       "}\n",
       "\n",
       "#sk-container-id-1 div.sk-estimator.fitted:hover {\n",
       "  /* fitted */\n",
       "  background-color: var(--sklearn-color-fitted-level-2);\n",
       "}\n",
       "\n",
       "/* Specification for estimator info (e.g. \"i\" and \"?\") */\n",
       "\n",
       "/* Common style for \"i\" and \"?\" */\n",
       "\n",
       ".sk-estimator-doc-link,\n",
       "a:link.sk-estimator-doc-link,\n",
       "a:visited.sk-estimator-doc-link {\n",
       "  float: right;\n",
       "  font-size: smaller;\n",
       "  line-height: 1em;\n",
       "  font-family: monospace;\n",
       "  background-color: var(--sklearn-color-background);\n",
       "  border-radius: 1em;\n",
       "  height: 1em;\n",
       "  width: 1em;\n",
       "  text-decoration: none !important;\n",
       "  margin-left: 0.5em;\n",
       "  text-align: center;\n",
       "  /* unfitted */\n",
       "  border: var(--sklearn-color-unfitted-level-1) 1pt solid;\n",
       "  color: var(--sklearn-color-unfitted-level-1);\n",
       "}\n",
       "\n",
       ".sk-estimator-doc-link.fitted,\n",
       "a:link.sk-estimator-doc-link.fitted,\n",
       "a:visited.sk-estimator-doc-link.fitted {\n",
       "  /* fitted */\n",
       "  border: var(--sklearn-color-fitted-level-1) 1pt solid;\n",
       "  color: var(--sklearn-color-fitted-level-1);\n",
       "}\n",
       "\n",
       "/* On hover */\n",
       "div.sk-estimator:hover .sk-estimator-doc-link:hover,\n",
       ".sk-estimator-doc-link:hover,\n",
       "div.sk-label-container:hover .sk-estimator-doc-link:hover,\n",
       ".sk-estimator-doc-link:hover {\n",
       "  /* unfitted */\n",
       "  background-color: var(--sklearn-color-unfitted-level-3);\n",
       "  color: var(--sklearn-color-background);\n",
       "  text-decoration: none;\n",
       "}\n",
       "\n",
       "div.sk-estimator.fitted:hover .sk-estimator-doc-link.fitted:hover,\n",
       ".sk-estimator-doc-link.fitted:hover,\n",
       "div.sk-label-container:hover .sk-estimator-doc-link.fitted:hover,\n",
       ".sk-estimator-doc-link.fitted:hover {\n",
       "  /* fitted */\n",
       "  background-color: var(--sklearn-color-fitted-level-3);\n",
       "  color: var(--sklearn-color-background);\n",
       "  text-decoration: none;\n",
       "}\n",
       "\n",
       "/* Span, style for the box shown on hovering the info icon */\n",
       ".sk-estimator-doc-link span {\n",
       "  display: none;\n",
       "  z-index: 9999;\n",
       "  position: relative;\n",
       "  font-weight: normal;\n",
       "  right: .2ex;\n",
       "  padding: .5ex;\n",
       "  margin: .5ex;\n",
       "  width: min-content;\n",
       "  min-width: 20ex;\n",
       "  max-width: 50ex;\n",
       "  color: var(--sklearn-color-text);\n",
       "  box-shadow: 2pt 2pt 4pt #999;\n",
       "  /* unfitted */\n",
       "  background: var(--sklearn-color-unfitted-level-0);\n",
       "  border: .5pt solid var(--sklearn-color-unfitted-level-3);\n",
       "}\n",
       "\n",
       ".sk-estimator-doc-link.fitted span {\n",
       "  /* fitted */\n",
       "  background: var(--sklearn-color-fitted-level-0);\n",
       "  border: var(--sklearn-color-fitted-level-3);\n",
       "}\n",
       "\n",
       ".sk-estimator-doc-link:hover span {\n",
       "  display: block;\n",
       "}\n",
       "\n",
       "/* \"?\"-specific style due to the `<a>` HTML tag */\n",
       "\n",
       "#sk-container-id-1 a.estimator_doc_link {\n",
       "  float: right;\n",
       "  font-size: 1rem;\n",
       "  line-height: 1em;\n",
       "  font-family: monospace;\n",
       "  background-color: var(--sklearn-color-background);\n",
       "  border-radius: 1rem;\n",
       "  height: 1rem;\n",
       "  width: 1rem;\n",
       "  text-decoration: none;\n",
       "  /* unfitted */\n",
       "  color: var(--sklearn-color-unfitted-level-1);\n",
       "  border: var(--sklearn-color-unfitted-level-1) 1pt solid;\n",
       "}\n",
       "\n",
       "#sk-container-id-1 a.estimator_doc_link.fitted {\n",
       "  /* fitted */\n",
       "  border: var(--sklearn-color-fitted-level-1) 1pt solid;\n",
       "  color: var(--sklearn-color-fitted-level-1);\n",
       "}\n",
       "\n",
       "/* On hover */\n",
       "#sk-container-id-1 a.estimator_doc_link:hover {\n",
       "  /* unfitted */\n",
       "  background-color: var(--sklearn-color-unfitted-level-3);\n",
       "  color: var(--sklearn-color-background);\n",
       "  text-decoration: none;\n",
       "}\n",
       "\n",
       "#sk-container-id-1 a.estimator_doc_link.fitted:hover {\n",
       "  /* fitted */\n",
       "  background-color: var(--sklearn-color-fitted-level-3);\n",
       "}\n",
       "</style><div id=\"sk-container-id-1\" class=\"sk-top-container\"><div class=\"sk-text-repr-fallback\"><pre>LinearRegression()</pre><b>In a Jupyter environment, please rerun this cell to show the HTML representation or trust the notebook. <br />On GitHub, the HTML representation is unable to render, please try loading this page with nbviewer.org.</b></div><div class=\"sk-container\" hidden><div class=\"sk-item\"><div class=\"sk-estimator fitted sk-toggleable\"><input class=\"sk-toggleable__control sk-hidden--visually\" id=\"sk-estimator-id-1\" type=\"checkbox\" checked><label for=\"sk-estimator-id-1\" class=\"sk-toggleable__label fitted sk-toggleable__label-arrow\"><div><div>LinearRegression</div></div><div><a class=\"sk-estimator-doc-link fitted\" rel=\"noreferrer\" target=\"_blank\" href=\"https://scikit-learn.org/1.6/modules/generated/sklearn.linear_model.LinearRegression.html\">?<span>Documentation for LinearRegression</span></a><span class=\"sk-estimator-doc-link fitted\">i<span>Fitted</span></span></div></label><div class=\"sk-toggleable__content fitted\"><pre>LinearRegression()</pre></div> </div></div></div></div>"
      ],
      "text/plain": [
       "LinearRegression()"
      ]
     },
     "execution_count": 18,
     "metadata": {},
     "output_type": "execute_result"
    }
   ],
   "source": [
    "regression_1.fit(X_train,y_train)"
   ]
  },
  {
   "cell_type": "code",
   "execution_count": 21,
   "metadata": {},
   "outputs": [
    {
     "name": "stdout",
     "output_type": "stream",
     "text": [
      "0.49976785683378067\n"
     ]
    }
   ],
   "source": [
    "from sklearn.metrics import r2_score\n",
    "score = r2_score(y_test,regression_1.predict(X_test))\n",
    "print(score)"
   ]
  },
  {
   "cell_type": "code",
   "execution_count": 22,
   "metadata": {},
   "outputs": [
    {
     "data": {
      "text/plain": [
       "Text(0, 0.5, 'Y')"
      ]
     },
     "execution_count": 22,
     "metadata": {},
     "output_type": "execute_result"
    },
    {
     "data": {
      "image/png": "[encoded data removed]",
      "text/plain": [
       "<Figure size 640x480 with 1 Axes>"
      ]
     },
     "metadata": {},
     "output_type": "display_data"
    }
   ],
   "source": [
    "## Lets visualize this model\n",
    "plt.plot(X_train,regression_1.predict(X_train),color='r')\n",
    "plt.scatter(X_train,y_train)\n",
    "plt.xlabel(\"X Dataset\")\n",
    "plt.ylabel(\"Y\")"
   ]
  },
  {
   "cell_type": "code",
   "execution_count": 23,
   "metadata": {},
   "outputs": [],
   "source": [
    "# Lets apply polynomial transformation\n",
    "from sklearn.preprocessing import PolynomialFeatures"
   ]
  },
  {
   "cell_type": "code",
   "execution_count": 25,
   "metadata": {},
   "outputs": [],
   "source": [
    "poly = PolynomialFeatures(degree=2,include_bias=True)\n",
    "X_train_poly = poly.fit_transform(X_train)\n",
    "X_test_poly = poly.transform(X_test)"
   ]
  },
  {
   "cell_type": "code",
   "execution_count": 26,
   "metadata": {},
   "outputs": [
    {
     "data": {
      "text/plain": [
       "array([[ 1.00000000e+00, -5.28383541e-01,  2.79189166e-01],\n",
       "       [ 1.00000000e+00,  2.43324395e+00,  5.92067613e+00],\n",
       "       [ 1.00000000e+00,  1.71216410e+00,  2.93150592e+00],\n",
       "       [ 1.00000000e+00,  1.03710619e+00,  1.07558924e+00],\n",
       "       [ 1.00000000e+00, -1.81131548e+00,  3.28086379e+00],\n",
       "       [ 1.00000000e+00,  7.04354312e-01,  4.96114996e-01],\n",
       "       [ 1.00000000e+00,  8.68634756e-01,  7.54526339e-01],\n",
       "       [ 1.00000000e+00, -1.46554163e+00,  2.14781228e+00],\n",
       "       [ 1.00000000e+00,  4.12623020e-01,  1.70257757e-01],\n",
       "       [ 1.00000000e+00, -3.13358397e-01,  9.81934848e-02],\n",
       "       [ 1.00000000e+00,  6.80869071e-01,  4.63582692e-01],\n",
       "       [ 1.00000000e+00,  2.73323379e-01,  7.47056697e-02],\n",
       "       [ 1.00000000e+00, -2.74246695e+00,  7.52112496e+00],\n",
       "       [ 1.00000000e+00,  2.21552989e+00,  4.90857269e+00],\n",
       "       [ 1.00000000e+00, -2.47843855e+00,  6.14265766e+00],\n",
       "       [ 1.00000000e+00,  1.00537697e+00,  1.01078285e+00],\n",
       "       [ 1.00000000e+00, -4.94422144e-01,  2.44453256e-01],\n",
       "       [ 1.00000000e+00,  1.11669025e+00,  1.24699712e+00],\n",
       "       [ 1.00000000e+00, -8.42679324e-01,  7.10108443e-01],\n",
       "       [ 1.00000000e+00,  9.14189137e-01,  8.35741778e-01],\n",
       "       [ 1.00000000e+00,  2.10498069e+00,  4.43094369e+00],\n",
       "       [ 1.00000000e+00, -6.16216495e-01,  3.79722769e-01],\n",
       "       [ 1.00000000e+00,  2.77518300e+00,  7.70164066e+00],\n",
       "       [ 1.00000000e+00, -1.34438129e+00,  1.80736104e+00],\n",
       "       [ 1.00000000e+00, -2.87835938e+00,  8.28495270e+00],\n",
       "       [ 1.00000000e+00, -8.10955804e-02,  6.57649317e-03],\n",
       "       [ 1.00000000e+00,  1.24922931e+00,  1.56057387e+00],\n",
       "       [ 1.00000000e+00,  2.73651157e-01,  7.48849555e-02],\n",
       "       [ 1.00000000e+00,  9.60109396e-01,  9.21810052e-01],\n",
       "       [ 1.00000000e+00,  5.37829718e-01,  2.89260806e-01],\n",
       "       [ 1.00000000e+00,  2.55618400e-01,  6.53407663e-02],\n",
       "       [ 1.00000000e+00,  2.85943615e+00,  8.17637512e+00],\n",
       "       [ 1.00000000e+00,  2.17096496e+00,  4.71308885e+00],\n",
       "       [ 1.00000000e+00,  2.39743710e+00,  5.74770466e+00],\n",
       "       [ 1.00000000e+00,  2.05818111e+00,  4.23610947e+00],\n",
       "       [ 1.00000000e+00,  2.19705958e-01,  4.82707081e-02],\n",
       "       [ 1.00000000e+00,  2.04283666e-02,  4.17318164e-04],\n",
       "       [ 1.00000000e+00,  3.04610066e-01,  9.27872924e-02],\n",
       "       [ 1.00000000e+00, -2.82480699e+00,  7.97953451e+00],\n",
       "       [ 1.00000000e+00, -1.99828395e+00,  3.99313875e+00],\n",
       "       [ 1.00000000e+00,  1.99048068e+00,  3.96201334e+00],\n",
       "       [ 1.00000000e+00, -2.06681825e+00,  4.27173770e+00],\n",
       "       [ 1.00000000e+00, -2.27287908e+00,  5.16597931e+00],\n",
       "       [ 1.00000000e+00, -8.57716466e-01,  7.35677536e-01],\n",
       "       [ 1.00000000e+00, -6.68319161e-01,  4.46650502e-01],\n",
       "       [ 1.00000000e+00,  2.60399455e+00,  6.78078762e+00],\n",
       "       [ 1.00000000e+00,  2.08399919e-01,  4.34305262e-02],\n",
       "       [ 1.00000000e+00,  8.45369861e-01,  7.14650202e-01],\n",
       "       [ 1.00000000e+00, -1.55907754e+00,  2.43072278e+00],\n",
       "       [ 1.00000000e+00,  1.18404419e+00,  1.40196064e+00],\n",
       "       [ 1.00000000e+00, -2.96810679e+00,  8.80965794e+00],\n",
       "       [ 1.00000000e+00, -1.87023566e+00,  3.49778142e+00],\n",
       "       [ 1.00000000e+00, -1.04128520e+00,  1.08427488e+00],\n",
       "       [ 1.00000000e+00, -8.66434788e-01,  7.50709242e-01],\n",
       "       [ 1.00000000e+00,  1.64568730e+00,  2.70828670e+00],\n",
       "       [ 1.00000000e+00, -2.87220113e+00,  8.24953933e+00],\n",
       "       [ 1.00000000e+00, -4.36828998e-01,  1.90819573e-01],\n",
       "       [ 1.00000000e+00, -2.09507207e+00,  4.38932699e+00],\n",
       "       [ 1.00000000e+00,  2.97503870e+00,  8.85085526e+00],\n",
       "       [ 1.00000000e+00, -2.23023802e+00,  4.97396163e+00],\n",
       "       [ 1.00000000e+00,  2.89694763e+00,  8.39230555e+00],\n",
       "       [ 1.00000000e+00, -1.11092245e+00,  1.23414869e+00],\n",
       "       [ 1.00000000e+00,  1.47195560e+00,  2.16665330e+00],\n",
       "       [ 1.00000000e+00, -2.72813183e-02,  7.44270329e-04],\n",
       "       [ 1.00000000e+00,  1.32420186e+00,  1.75351056e+00],\n",
       "       [ 1.00000000e+00, -1.81549811e+00,  3.29603340e+00],\n",
       "       [ 1.00000000e+00,  1.23809642e+00,  1.53288274e+00],\n",
       "       [ 1.00000000e+00, -9.46460748e-01,  8.95787947e-01],\n",
       "       [ 1.00000000e+00, -2.79492805e+00,  7.81162279e+00],\n",
       "       [ 1.00000000e+00,  2.11010849e+00,  4.45255782e+00],\n",
       "       [ 1.00000000e+00, -2.88942235e+00,  8.34876150e+00],\n",
       "       [ 1.00000000e+00,  3.34321697e-01,  1.11770997e-01],\n",
       "       [ 1.00000000e+00,  2.33768576e+00,  5.46477470e+00],\n",
       "       [ 1.00000000e+00,  2.24158637e-01,  5.02470944e-02],\n",
       "       [ 1.00000000e+00, -9.76500954e-01,  9.53554112e-01],\n",
       "       [ 1.00000000e+00,  7.82817520e-01,  6.12803269e-01],\n",
       "       [ 1.00000000e+00, -2.46814850e+00,  6.09175700e+00],\n",
       "       [ 1.00000000e+00,  2.83889642e+00,  8.05933286e+00],\n",
       "       [ 1.00000000e+00, -2.33885943e+00,  5.47026342e+00],\n",
       "       [ 1.00000000e+00,  1.45700827e-01,  2.12287309e-02]])"
      ]
     },
     "execution_count": 26,
     "metadata": {},
     "output_type": "execute_result"
    }
   ],
   "source": [
    "X_train_poly"
   ]
  },
  {
   "cell_type": "code",
   "execution_count": 27,
   "metadata": {},
   "outputs": [
    {
     "data": {
      "text/plain": [
       "array([[ 1.        , -2.59919332,  6.75580593],\n",
       "       [ 1.        , -2.59855849,  6.7525062 ],\n",
       "       [ 1.        ,  1.65368332,  2.73466854],\n",
       "       [ 1.        , -2.45131999,  6.00896967],\n",
       "       [ 1.        ,  1.12439222,  1.26425787],\n",
       "       [ 1.        , -2.65127435,  7.0292557 ],\n",
       "       [ 1.        ,  1.69410862,  2.87000403],\n",
       "       [ 1.        , -1.83892747,  3.38165426],\n",
       "       [ 1.        ,  1.60196083,  2.56627849],\n",
       "       [ 1.        ,  1.94219375,  3.77211656],\n",
       "       [ 1.        ,  2.60787525,  6.80101334],\n",
       "       [ 1.        ,  1.41853181,  2.01223249],\n",
       "       [ 1.        ,  0.75528683,  0.5704582 ],\n",
       "       [ 1.        ,  0.40849499,  0.16686816],\n",
       "       [ 1.        ,  0.30596136,  0.09361236],\n",
       "       [ 1.        ,  1.45905922,  2.12885381],\n",
       "       [ 1.        , -0.27066219,  0.07325802],\n",
       "       [ 1.        ,  0.72674015,  0.52815125],\n",
       "       [ 1.        , -2.81366601,  7.91671642],\n",
       "       [ 1.        , -1.07035119,  1.14565166]])"
      ]
     },
     "execution_count": 27,
     "metadata": {},
     "output_type": "execute_result"
    }
   ],
   "source": [
    "X_test_poly"
   ]
  },
  {
   "cell_type": "code",
   "execution_count": 28,
   "metadata": {},
   "outputs": [
    {
     "name": "stdout",
     "output_type": "stream",
     "text": [
      "0.7881868400821631\n"
     ]
    }
   ],
   "source": [
    "from sklearn.metrics import r2_score\n",
    "regression = LinearRegression()\n",
    "regression.fit(X_train_poly,y_train)\n",
    "y_pred = regression.predict(X_test_poly)\n",
    "score = r2_score(y_test,y_pred)\n",
    "print(score)"
   ]
  },
  {
   "cell_type": "code",
   "execution_count": 29,
   "metadata": {},
   "outputs": [
    {
     "name": "stdout",
     "output_type": "stream",
     "text": [
      "[[0.         1.39288253 0.47934605]]\n"
     ]
    }
   ],
   "source": [
    "print(regression.coef_)"
   ]
  },
  {
   "cell_type": "code",
   "execution_count": 32,
   "metadata": {},
   "outputs": [
    {
     "name": "stdout",
     "output_type": "stream",
     "text": [
      "[2.06770432]\n"
     ]
    }
   ],
   "source": [
    "print(regression.intercept_)"
   ]
  },
  {
   "cell_type": "code",
   "execution_count": 34,
   "metadata": {},
   "outputs": [
    {
     "data": {
      "text/plain": [
       "<matplotlib.collections.PathCollection at 0x2b1b457d4c0>"
      ]
     },
     "execution_count": 34,
     "metadata": {},
     "output_type": "execute_result"
    },
    {
     "data": {
      "image/png": "[encoded data removed]",
      "text/plain": [
       "<Figure size 640x480 with 1 Axes>"
      ]
     },
     "metadata": {},
     "output_type": "display_data"
    }
   ],
   "source": [
    "plt.scatter(X_train,regression.predict(X_train_poly))\n",
    "plt.scatter(X_train,y_train)"
   ]
  },
  {
   "cell_type": "markdown",
   "metadata": {},
   "source": [
    "## Lets make degree 3"
   ]
  },
  {
   "cell_type": "code",
   "execution_count": 36,
   "metadata": {},
   "outputs": [],
   "source": [
    "poly = PolynomialFeatures(degree=3,include_bias=True)\n",
    "X_train_poly = poly.fit_transform(X_train)\n",
    "X_test_poly = poly.transform(X_test)"
   ]
  },
  {
   "cell_type": "code",
   "execution_count": 37,
   "metadata": {},
   "outputs": [
    {
     "data": {
      "text/plain": [
       "array([[ 1.00000000e+00, -5.28383541e-01,  2.79189166e-01,\n",
       "        -1.47518960e-01],\n",
       "       [ 1.00000000e+00,  2.43324395e+00,  5.92067613e+00,\n",
       "         1.44064494e+01],\n",
       "       [ 1.00000000e+00,  1.71216410e+00,  2.93150592e+00,\n",
       "         5.01921921e+00],\n",
       "       [ 1.00000000e+00,  1.03710619e+00,  1.07558924e+00,\n",
       "         1.11550026e+00],\n",
       "       [ 1.00000000e+00, -1.81131548e+00,  3.28086379e+00,\n",
       "        -5.94267938e+00],\n",
       "       [ 1.00000000e+00,  7.04354312e-01,  4.96114996e-01,\n",
       "         3.49440737e-01],\n",
       "       [ 1.00000000e+00,  8.68634756e-01,  7.54526339e-01,\n",
       "         6.55407803e-01],\n",
       "       [ 1.00000000e+00, -1.46554163e+00,  2.14781228e+00,\n",
       "        -3.14770832e+00],\n",
       "       [ 1.00000000e+00,  4.12623020e-01,  1.70257757e-01,\n",
       "         7.02522697e-02],\n",
       "       [ 1.00000000e+00, -3.13358397e-01,  9.81934848e-02,\n",
       "        -3.07697530e-02],\n",
       "       [ 1.00000000e+00,  6.80869071e-01,  4.63582692e-01,\n",
       "         3.15639117e-01],\n",
       "       [ 1.00000000e+00,  2.73323379e-01,  7.47056697e-02,\n",
       "         2.04188061e-02],\n",
       "       [ 1.00000000e+00, -2.74246695e+00,  7.52112496e+00,\n",
       "        -2.06264366e+01],\n",
       "       [ 1.00000000e+00,  2.21552989e+00,  4.90857269e+00,\n",
       "         1.08750895e+01],\n",
       "       [ 1.00000000e+00, -2.47843855e+00,  6.14265766e+00,\n",
       "        -1.52241996e+01],\n",
       "       [ 1.00000000e+00,  1.00537697e+00,  1.01078285e+00,\n",
       "         1.01621780e+00],\n",
       "       [ 1.00000000e+00, -4.94422144e-01,  2.44453256e-01,\n",
       "        -1.20863103e-01],\n",
       "       [ 1.00000000e+00,  1.11669025e+00,  1.24699712e+00,\n",
       "         1.39250952e+00],\n",
       "       [ 1.00000000e+00, -8.42679324e-01,  7.10108443e-01,\n",
       "        -5.98393703e-01],\n",
       "       [ 1.00000000e+00,  9.14189137e-01,  8.35741778e-01,\n",
       "         7.64026054e-01],\n",
       "       [ 1.00000000e+00,  2.10498069e+00,  4.43094369e+00,\n",
       "         9.32705091e+00],\n",
       "       [ 1.00000000e+00, -6.16216495e-01,  3.79722769e-01,\n",
       "        -2.33991434e-01],\n",
       "       [ 1.00000000e+00,  2.77518300e+00,  7.70164066e+00,\n",
       "         2.13734622e+01],\n",
       "       [ 1.00000000e+00, -1.34438129e+00,  1.80736104e+00,\n",
       "        -2.42978236e+00],\n",
       "       [ 1.00000000e+00, -2.87835938e+00,  8.28495270e+00,\n",
       "        -2.38470713e+01],\n",
       "       [ 1.00000000e+00, -8.10955804e-02,  6.57649317e-03,\n",
       "        -5.33324530e-04],\n",
       "       [ 1.00000000e+00,  1.24922931e+00,  1.56057387e+00,\n",
       "         1.94951462e+00],\n",
       "       [ 1.00000000e+00,  2.73651157e-01,  7.48849555e-02,\n",
       "         2.04923547e-02],\n",
       "       [ 1.00000000e+00,  9.60109396e-01,  9.21810052e-01,\n",
       "         8.85038492e-01],\n",
       "       [ 1.00000000e+00,  5.37829718e-01,  2.89260806e-01,\n",
       "         1.55573058e-01],\n",
       "       [ 1.00000000e+00,  2.55618400e-01,  6.53407663e-02,\n",
       "         1.67023021e-02],\n",
       "       [ 1.00000000e+00,  2.85943615e+00,  8.17637512e+00,\n",
       "         2.33798226e+01],\n",
       "       [ 1.00000000e+00,  2.17096496e+00,  4.71308885e+00,\n",
       "         1.02319507e+01],\n",
       "       [ 1.00000000e+00,  2.39743710e+00,  5.74770466e+00,\n",
       "         1.37797604e+01],\n",
       "       [ 1.00000000e+00,  2.05818111e+00,  4.23610947e+00,\n",
       "         8.71868048e+00],\n",
       "       [ 1.00000000e+00,  2.19705958e-01,  4.82707081e-02,\n",
       "         1.06053622e-02],\n",
       "       [ 1.00000000e+00,  2.04283666e-02,  4.17318164e-04,\n",
       "         8.52512845e-06],\n",
       "       [ 1.00000000e+00,  3.04610066e-01,  9.27872924e-02,\n",
       "         2.82639433e-02],\n",
       "       [ 1.00000000e+00, -2.82480699e+00,  7.97953451e+00,\n",
       "        -2.25406448e+01],\n",
       "       [ 1.00000000e+00, -1.99828395e+00,  3.99313875e+00,\n",
       "        -7.97942508e+00],\n",
       "       [ 1.00000000e+00,  1.99048068e+00,  3.96201334e+00,\n",
       "         7.88631102e+00],\n",
       "       [ 1.00000000e+00, -2.06681825e+00,  4.27173770e+00,\n",
       "        -8.82890546e+00],\n",
       "       [ 1.00000000e+00, -2.27287908e+00,  5.16597931e+00,\n",
       "        -1.17416463e+01],\n",
       "       [ 1.00000000e+00, -8.57716466e-01,  7.35677536e-01,\n",
       "        -6.31002736e-01],\n",
       "       [ 1.00000000e+00, -6.68319161e-01,  4.46650502e-01,\n",
       "        -2.98505089e-01],\n",
       "       [ 1.00000000e+00,  2.60399455e+00,  6.78078762e+00,\n",
       "         1.76571340e+01],\n",
       "       [ 1.00000000e+00,  2.08399919e-01,  4.34305262e-02,\n",
       "         9.05091815e-03],\n",
       "       [ 1.00000000e+00,  8.45369861e-01,  7.14650202e-01,\n",
       "         6.04143743e-01],\n",
       "       [ 1.00000000e+00, -1.55907754e+00,  2.43072278e+00,\n",
       "        -3.78968531e+00],\n",
       "       [ 1.00000000e+00,  1.18404419e+00,  1.40196064e+00,\n",
       "         1.65998334e+00],\n",
       "       [ 1.00000000e+00, -2.96810679e+00,  8.80965794e+00,\n",
       "        -2.61480056e+01],\n",
       "       [ 1.00000000e+00, -1.87023566e+00,  3.49778142e+00,\n",
       "        -6.54167554e+00],\n",
       "       [ 1.00000000e+00, -1.04128520e+00,  1.08427488e+00,\n",
       "        -1.12903939e+00],\n",
       "       [ 1.00000000e+00, -8.66434788e-01,  7.50709242e-01,\n",
       "        -6.50440603e-01],\n",
       "       [ 1.00000000e+00,  1.64568730e+00,  2.70828670e+00,\n",
       "         4.45699304e+00],\n",
       "       [ 1.00000000e+00, -2.87220113e+00,  8.24953933e+00,\n",
       "        -2.36943362e+01],\n",
       "       [ 1.00000000e+00, -4.36828998e-01,  1.90819573e-01,\n",
       "        -8.33555228e-02],\n",
       "       [ 1.00000000e+00, -2.09507207e+00,  4.38932699e+00,\n",
       "        -9.19595640e+00],\n",
       "       [ 1.00000000e+00,  2.97503870e+00,  8.85085526e+00,\n",
       "         2.63316369e+01],\n",
       "       [ 1.00000000e+00, -2.23023802e+00,  4.97396163e+00,\n",
       "        -1.10931183e+01],\n",
       "       [ 1.00000000e+00,  2.89694763e+00,  8.39230555e+00,\n",
       "         2.43120696e+01],\n",
       "       [ 1.00000000e+00, -1.11092245e+00,  1.23414869e+00,\n",
       "        -1.37104349e+00],\n",
       "       [ 1.00000000e+00,  1.47195560e+00,  2.16665330e+00,\n",
       "         3.18921747e+00],\n",
       "       [ 1.00000000e+00, -2.72813183e-02,  7.44270329e-04,\n",
       "        -2.03046758e-05],\n",
       "       [ 1.00000000e+00,  1.32420186e+00,  1.75351056e+00,\n",
       "         2.32200195e+00],\n",
       "       [ 1.00000000e+00, -1.81549811e+00,  3.29603340e+00,\n",
       "        -5.98394242e+00],\n",
       "       [ 1.00000000e+00,  1.23809642e+00,  1.53288274e+00,\n",
       "         1.89785662e+00],\n",
       "       [ 1.00000000e+00, -9.46460748e-01,  8.95787947e-01,\n",
       "        -8.47828130e-01],\n",
       "       [ 1.00000000e+00, -2.79492805e+00,  7.81162279e+00,\n",
       "        -2.18329236e+01],\n",
       "       [ 1.00000000e+00,  2.11010849e+00,  4.45255782e+00,\n",
       "         9.39538004e+00],\n",
       "       [ 1.00000000e+00, -2.88942235e+00,  8.34876150e+00,\n",
       "        -2.41230980e+01],\n",
       "       [ 1.00000000e+00,  3.34321697e-01,  1.11770997e-01,\n",
       "         3.73674695e-02],\n",
       "       [ 1.00000000e+00,  2.33768576e+00,  5.46477470e+00,\n",
       "         1.27749260e+01],\n",
       "       [ 1.00000000e+00,  2.24158637e-01,  5.02470944e-02,\n",
       "         1.12633202e-02],\n",
       "       [ 1.00000000e+00, -9.76500954e-01,  9.53554112e-01,\n",
       "        -9.31146500e-01],\n",
       "       [ 1.00000000e+00,  7.82817520e-01,  6.12803269e-01,\n",
       "         4.79713135e-01],\n",
       "       [ 1.00000000e+00, -2.46814850e+00,  6.09175700e+00,\n",
       "        -1.50353609e+01],\n",
       "       [ 1.00000000e+00,  2.83889642e+00,  8.05933286e+00,\n",
       "         2.28796112e+01],\n",
       "       [ 1.00000000e+00, -2.33885943e+00,  5.47026342e+00,\n",
       "        -1.27941772e+01],\n",
       "       [ 1.00000000e+00,  1.45700827e-01,  2.12287309e-02,\n",
       "         3.09304364e-03]])"
      ]
     },
     "execution_count": 37,
     "metadata": {},
     "output_type": "execute_result"
    }
   ],
   "source": [
    "X_train_poly"
   ]
  },
  {
   "cell_type": "code",
   "execution_count": 38,
   "metadata": {},
   "outputs": [
    {
     "name": "stdout",
     "output_type": "stream",
     "text": [
      "0.7814209475303522\n"
     ]
    }
   ],
   "source": [
    "from sklearn.metrics import r2_score\n",
    "regression = LinearRegression()\n",
    "regression.fit(X_train_poly,y_train)\n",
    "y_pred = regression.predict(X_test_poly)\n",
    "score = r2_score(y_test,y_pred)\n",
    "print(score)"
   ]
  },
  {
   "cell_type": "code",
   "execution_count": 58,
   "metadata": {},
   "outputs": [],
   "source": [
    "poly = PolynomialFeatures(degree=6,include_bias=True)\n",
    "X_train_poly = poly.fit_transform(X_train)\n",
    "X_test_poly = poly.transform(X_test)"
   ]
  },
  {
   "cell_type": "code",
   "execution_count": 59,
   "metadata": {},
   "outputs": [
    {
     "name": "stdout",
     "output_type": "stream",
     "text": [
      "0.7842609140444541\n"
     ]
    }
   ],
   "source": [
    "from sklearn.metrics import r2_score\n",
    "regression = LinearRegression()\n",
    "regression.fit(X_train_poly,y_train)\n",
    "y_pred = regression.predict(X_test_poly)\n",
    "score = r2_score(y_test,y_pred)\n",
    "print(score)"
   ]
  },
  {
   "cell_type": "code",
   "execution_count": 67,
   "metadata": {},
   "outputs": [
    {
     "data": {
      "text/plain": [
       "array([[   1.        ,   -3.        ,    9.        , ...,   81.        ,\n",
       "        -243.        ,  729.        ],\n",
       "       [   1.        ,   -2.96984925,    8.82000455, ...,   77.79248018,\n",
       "        -231.03193862,  686.13002878],\n",
       "       [   1.        ,   -2.93969849,    8.64182723, ...,   74.68117781,\n",
       "        -219.54014584,  645.38183575],\n",
       "       ...,\n",
       "       [   1.        ,    2.93969849,    8.64182723, ...,   74.68117781,\n",
       "         219.54014584,  645.38183575],\n",
       "       [   1.        ,    2.96984925,    8.82000455, ...,   77.79248018,\n",
       "         231.03193862,  686.13002878],\n",
       "       [   1.        ,    3.        ,    9.        , ...,   81.        ,\n",
       "         243.        ,  729.        ]])"
      ]
     },
     "execution_count": 67,
     "metadata": {},
     "output_type": "execute_result"
    }
   ],
   "source": [
    "# 3 Prediction of new data set\n",
    "X_new = np.linspace(-3, 3, 200).reshape(200, 1)\n",
    "X_new_poly = poly.transform(X_new)\n",
    "X_new_poly"
   ]
  },
  {
   "cell_type": "code",
   "execution_count": 68,
   "metadata": {},
   "outputs": [
    {
     "data": {
      "image/png": "[encoded data removed]",
      "text/plain": [
       "<Figure size 640x480 with 1 Axes>"
      ]
     },
     "metadata": {},
     "output_type": "display_data"
    }
   ],
   "source": [
    "y_new = regression.predict(X_new_poly)\n",
    "plt.plot(X_new,y_new,\"r\",linewidth = 2, label = \"Predictions\")\n",
    "plt.plot(X_train,y_train,\"b.\",label='Testing points')\n",
    "plt.plot(X_test,y_test,\"g.\",label='Testing points')\n",
    "plt.xlabel(\"X\")\n",
    "plt.ylabel(\"y\")\n",
    "plt.legend()\n",
    "plt.show()"
   ]
  },
  {
   "cell_type": "code",
   "execution_count": null,
   "metadata": {},
   "outputs": [],
   "source": []
  }
 ],
 "metadata": {
  "kernelspec": {
   "display_name": "venv",
   "language": "python",
   "name": "python3"
  },
  "language_info": {
   "codemirror_mode": {
    "name": "ipython",
    "version": 3
   },
   "file_extension": ".py",
   "mimetype": "text/x-python",
   "name": "python",
   "nbconvert_exporter": "python",
   "pygments_lexer": "ipython3",
   "version": "3.12.5"
  }
 },
 "nbformat": 4,
 "nbformat_minor": 2
}
